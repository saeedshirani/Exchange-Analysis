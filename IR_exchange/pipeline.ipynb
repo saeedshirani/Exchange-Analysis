{
 "cells": [
  {
   "cell_type": "markdown",
   "metadata": {},
   "source": []
  },
  {
   "cell_type": "code",
   "execution_count": 3,
   "metadata": {},
   "outputs": [],
   "source": [
    "import pandas as pd\n",
    "import numpy as np\n",
    "import os\n"
   ]
  },
  {
   "cell_type": "markdown",
   "metadata": {},
   "source": [
    "# Iterate loop inside Directory"
   ]
  },
  {
   "cell_type": "markdown",
   "metadata": {},
   "source": [
    "## Define MIN and MAX for Date"
   ]
  },
  {
   "cell_type": "code",
   "execution_count": 44,
   "metadata": {},
   "outputs": [],
   "source": [
    "def time_intercept():\n",
    "    \"\"\" This Function will return a 1-D  Array of numbers between maximum and minimum time \"\"\"\n",
    "\n",
    "    directory = os.fsencode(\"./test\")\n",
    "\n",
    "    min = 13990101\n",
    "    max = 14030203\n",
    "    for file in os.listdir(directory):\n",
    "\n",
    "        filename = os.fsdecode(file)\n",
    "\n",
    "        try:\n",
    "            temp_frame = pd.read_excel(f\"./test/{filename}\")\n",
    "\n",
    "            if min > temp_frame[\"<Jalali>\"].min():\n",
    "                min = temp_frame[\"<Jalali>\"].min()\n",
    "\n",
    "            if max < temp_frame[\"<Jalali>\"].max():\n",
    "                max = temp_frame[\"<Jalali>\"].max()\n",
    "        \n",
    "        except:\n",
    "            continue\n",
    "\n",
    "\n",
    "    time_interval = np.arange(min, max, 1)\n",
    "\n",
    "\n",
    "    return time_interval"
   ]
  },
  {
   "cell_type": "code",
   "execution_count": 14,
   "metadata": {},
   "outputs": [],
   "source": [
    "time_interval = time_intercept()"
   ]
  },
  {
   "cell_type": "code",
   "execution_count": 45,
   "metadata": {},
   "outputs": [],
   "source": [
    "def data_selection():\n",
    "    \"\"\" This function will create a dataframe which include all selected columns of files\"\"\"\n",
    "    time_interval = time_intercept()\n",
    "\n",
    "    main_frame = pd.DataFrame(index=time_interval)\n",
    "\n",
    "    directory = os.fsencode(\"./test\")\n",
    "    for file in os.listdir(directory):\n",
    "\n",
    "        filename = os.fsdecode(file)\n",
    "       \n",
    "        try:   \n",
    "\n",
    "            temp_frame = pd.read_excel(f\"./test/{filename}\")\n",
    "            temp_frame.rename(columns={'<OPEN>': f'Open {file}'}, inplace=True)\n",
    "            temp_frame.set_index('<Jalali>', inplace=True)\n",
    "            \n",
    "            main_frame = main_frame.merge(temp_frame[[f'Open {file}']], left_index=True, right_index=True )\n",
    "            \n",
    "        except:\n",
    "            continue\n",
    "        \n",
    "\n",
    "        \n",
    "    return main_frame"
   ]
  },
  {
   "cell_type": "code",
   "execution_count": 46,
   "metadata": {},
   "outputs": [],
   "source": [
    "result = data_selection()"
   ]
  },
  {
   "cell_type": "code",
   "execution_count": 47,
   "metadata": {},
   "outputs": [
    {
     "data": {
      "text/html": [
       "<div>\n",
       "<style scoped>\n",
       "    .dataframe tbody tr th:only-of-type {\n",
       "        vertical-align: middle;\n",
       "    }\n",
       "\n",
       "    .dataframe tbody tr th {\n",
       "        vertical-align: top;\n",
       "    }\n",
       "\n",
       "    .dataframe thead th {\n",
       "        text-align: right;\n",
       "    }\n",
       "</style>\n",
       "<table border=\"1\" class=\"dataframe\">\n",
       "  <thead>\n",
       "    <tr style=\"text-align: right;\">\n",
       "      <th></th>\n",
       "      <th>Open b'IRB3AF010785-a.xls'</th>\n",
       "      <th>Open b'IRB3AF020784-a.xls'</th>\n",
       "      <th>Open b'IRB3AF030783-a.xls'</th>\n",
       "      <th>Open b'IRB3AH0106B5-a.xls'</th>\n",
       "      <th>Open b'IRB3AH0206B3-a.xls'</th>\n",
       "      <th>Open b'IRB3AI0107A3-a.xls'</th>\n",
       "      <th>Open b'IRB3AK0106C7-a.xls'</th>\n",
       "      <th>Open b'IRB3AL010258-a.xls'</th>\n",
       "      <th>Open b'IRB3AL0205C5-a.xls'</th>\n",
       "      <th>Open b'IRB3AM010679-a.xls'</th>\n",
       "      <th>...</th>\n",
       "      <th>Open b'IRXZXELC0005.xls'</th>\n",
       "      <th>Open b'IRXZXENG0009.xls'</th>\n",
       "      <th>Open b'IRXZXMCH0001.xls'</th>\n",
       "      <th>Open b'IRXZXOBM0003.xls'</th>\n",
       "      <th>Open b'IRXZXOCI0008.xls'</th>\n",
       "      <th>Open b'IRXZXOCI0024.xls'</th>\n",
       "      <th>Open b'IRXZXOZ10008.xls'</th>\n",
       "      <th>Open b'IRXZXOZ20007.xls'</th>\n",
       "      <th>Open b'IRXZXTRI0006.xls'</th>\n",
       "      <th>Open b'IRXZXWDI0007.xls'</th>\n",
       "    </tr>\n",
       "  </thead>\n",
       "  <tbody>\n",
       "  </tbody>\n",
       "</table>\n",
       "<p>0 rows × 1941 columns</p>\n",
       "</div>"
      ],
      "text/plain": [
       "Empty DataFrame\n",
       "Columns: [Open b'IRB3AF010785-a.xls', Open b'IRB3AF020784-a.xls', Open b'IRB3AF030783-a.xls', Open b'IRB3AH0106B5-a.xls', Open b'IRB3AH0206B3-a.xls', Open b'IRB3AI0107A3-a.xls', Open b'IRB3AK0106C7-a.xls', Open b'IRB3AL010258-a.xls', Open b'IRB3AL0205C5-a.xls', Open b'IRB3AM010679-a.xls', Open b'IRB3AN0106C1-a.xls', Open b'IRB3AR010765-a.xls', Open b'IRB3AR020764-a.xls', Open b'IRB3AR030763-a.xls', Open b'IRB3AR040762-a.xls', Open b'IRB3AR050761-a.xls', Open b'IRB3AT0106C8-a.xls', Open b'IRB3AU010620-a.xls', Open b'IRB3AU020660-a.xls', Open b'IRB3AV0105B8-a.xls', Open b'IRB3AV0205B6-a.xls', Open b'IRB3BE0106A2-a.xls', Open b'IRB3BK0199C0-a.xls', Open b'IRB3BL010364-a.xls', Open b'IRB3CJ0105C7-a.xls', Open b'IRB3DB010679-a.xls', Open b'IRB3DB020645-a.xls', Open b'IRB3DN010675-a.xls', Open b'IRB3DO010427-a.xls', Open b'IRB3DO0206A5-a.xls', Open b'IRB3DR010796-a.xls', Open b'IRB3DR020795-a.xls', Open b'IRB3DR030794-a.xls', Open b'IRB3DS010654-a.xls', Open b'IRB3DT0106A6-a.xls', Open b'IRB3DZ010432-a.xls', Open b'IRB3DZ020571-a.xls', Open b'IRB3EE010592-a.xls', Open b'IRB3EE0304A7-a.xls', Open b'IRB3EM010170-a.xls', Open b'IRB3EM020179-a.xls', Open b'IRB3EM030178-a.xls', Open b'IRB3EM0401A4-a.xls', Open b'IRB3EM0501A1-a.xls', Open b'IRB3EM0601A9-a.xls', Open b'IRB3EM0706C2-a.xls', Open b'IRB3EM0806C0-a.xls', Open b'IRB3EM0906C8-a.xls', Open b'IRB3EP010672-a.xls', Open b'IRB3FA010579-a.xls', Open b'IRB3FA020651-a.xls', Open b'IRB3FI0105B4-a.xls', Open b'IRB3FI0205B2-a.xls', Open b'IRB3FK010726-a.xls', Open b'IRB3FM0105C4-a.xls', Open b'IRB3FM0206A4-a.xls', Open b'IRB3FR010695-a.xls', Open b'IRB3FR020694-a.xls', Open b'IRB3FR030693-a.xls', Open b'IRB3GH019978-a.xls', Open b'IRB3GI010661-a.xls', Open b'IRB3GL0105A8-a.xls', Open b'IRB3GLGZ9628-a.xls', Open b'IRB3GR010512-a.xls', Open b'IRB3HE010672-a.xls', Open b'IRB3HH010372-a.xls', Open b'IRB3HI010173-a.xls', Open b'IRB3HS0106B7-a.xls', Open b'IRB3HT010675-a.xls', Open b'IRB3ID0105C7-a.xls', Open b'IRB3IL0105C0-a.xls', Open b'IRB3IS0100A0-a.xls', Open b'IRB3JH010651-a.xls', Open b'IRB3JH020650-a.xls', Open b'IRB3JH030659-a.xls', Open b'IRB3JH040658-a.xls', Open b'IRB3JPAZ9924-a.xls', Open b'IRB3KA010630-a.xls', Open b'IRB3KH010674-a.xls', Open b'IRB3KI010285-a.xls', Open b'IRB3KI0203B7-a.xls', Open b'IRB3KI030572-a.xls', Open b'IRB3KM019892-a.xls', Open b'IRB3KM0200B5-a.xls', Open b'IRB3KM030238-a.xls', Open b'IRB3KM040369-a.xls', Open b'IRB3KM050392-a.xls', Open b'IRB3KM060441-a.xls', Open b'IRB3KM070465-a.xls', Open b'IRB3KM080464-a.xls', Open b'IRB3KM090539-a.xls', Open b'IRB3KM100536-a.xls', Open b'IRB3KM1105C3-a.xls', Open b'IRB3KM1205C1-a.xls', Open b'IRB3KM1305C9-a.xls', Open b'IRB3KM1405C7-a.xls', Open b'IRB3KM1505C4-a.xls', Open b'IRB3KM1605C2-a.xls', Open b'IRB3KN0104B7-a.xls', Open b'IRB3KO019940-a.xls', ...]\n",
       "Index: []\n",
       "\n",
       "[0 rows x 1941 columns]"
      ]
     },
     "execution_count": 47,
     "metadata": {},
     "output_type": "execute_result"
    }
   ],
   "source": [
    "result"
   ]
  },
  {
   "cell_type": "code",
   "execution_count": null,
   "metadata": {},
   "outputs": [],
   "source": []
  }
 ],
 "metadata": {
  "kernelspec": {
   "display_name": "Python 3",
   "language": "python",
   "name": "python3"
  },
  "language_info": {
   "codemirror_mode": {
    "name": "ipython",
    "version": 3
   },
   "file_extension": ".py",
   "mimetype": "text/x-python",
   "name": "python",
   "nbconvert_exporter": "python",
   "pygments_lexer": "ipython3",
   "version": "3.11.0"
  }
 },
 "nbformat": 4,
 "nbformat_minor": 2
}
